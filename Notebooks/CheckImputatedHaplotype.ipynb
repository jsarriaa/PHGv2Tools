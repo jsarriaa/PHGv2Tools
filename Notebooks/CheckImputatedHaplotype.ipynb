{
 "cells": [
  {
   "cell_type": "code",
   "execution_count": null,
   "id": "ed0b6c25",
   "metadata": {},
   "outputs": [],
   "source": [
    "\n",
    "# Script to check the ammount of each pangenome genome can be found in an imputated haplotype, from an hVCF\n",
    "# \n",
    "# Prepared to work with an h.VCF from PHGv2 database. Conda can be the same as phgv2-conda"
   ]
  },
  {
   "cell_type": "code",
   "execution_count": null,
   "id": "2b8e108e",
   "metadata": {
    "lines_to_next_cell": 2
   },
   "outputs": [],
   "source": [
    "\n",
    "\n",
    "def AmIaNotebook():\n",
    "    try:\n",
    "        shell = get_ipython().__class__.__name__\n",
    "        if shell == 'ZMQInteractiveShell':\n",
    "            return True  # Jupyter notebook or qtconsole\n",
    "        elif shell == 'TerminalInteractiveShell':\n",
    "            return False  # Terminal running IPython\n",
    "        else:\n",
    "            return False  # Other type of environment\n",
    "    except NameError:\n",
    "        return False  # Not in an interactive environment\n",
    "\n",
    "#Check if the name of this file ends with .py or with .ipynb"
   ]
  },
  {
   "cell_type": "code",
   "execution_count": null,
   "id": "036f510d",
   "metadata": {
    "lines_to_next_cell": 2
   },
   "outputs": [],
   "source": [
    "\n",
    "\n",
    "def import_pangenome_genomes(hvcf_folder):\n",
    "\n",
    "    hvcf_files = glob.glob(hvcf_folder + '/*.h.vcf.gz')\n",
    "\n",
    "    print (f\"There are {len(hvcf_files)} genomes at the pangenome\")"
   ]
  },
  {
   "cell_type": "code",
   "execution_count": null,
   "id": "b42d07a1",
   "metadata": {
    "lines_to_next_cell": 2
   },
   "outputs": [],
   "source": [
    "\n",
    "\n",
    "def list_pangenome_hvcfs(hvcf_folder):\n",
    "\n",
    "    hvcf_files = glob.glob(hvcf_folder + '/*.h.vcf.gz')\n",
    "    return hvcf_files\n",
    "\n",
    "\n",
    "\n",
    "def check_imputation(hvcf_files, hvcf_file):\n",
    "\n",
    "    dict_distances = {}\n",
    "\n",
    "    with open(hvcf_file, \"r\") as f:\n",
    "        hvcf_lines = f.readlines()\n",
    "        filtred_hvcf_lines = []\n",
    "        for line in hvcf_lines:\n",
    "            if \"#\" not in line:\n",
    "                filtred_hvcf_lines.append(line)\n",
    "        \n",
    "        total_ranges = len(filtred_hvcf_lines)\n",
    "        print (f\"\\nTotal ranges in {hvcf_file} is {total_ranges}\")\n",
    "\n",
    "    for hvcf_file in hvcf_files:\n",
    "        with gzip.open(hvcf_file, \"rt\") as f:\n",
    "            file_name = os.path.basename(f.name).split(\".\")[0]\n",
    "            print (f\"\\nChecking {file_name}\")\n",
    "            pang_content = f.read()\n",
    "            match_count = 0\n",
    "\n",
    "            for line in filtred_hvcf_lines:\n",
    "                key = line.split(\"\\t\")[4]\n",
    "                key = key.replace(\"<\", \"\")\n",
    "                key = key.replace(\">\", \"\")\n",
    "                if key == \".\":\n",
    "                    continue\n",
    "                if key in pang_content:\n",
    "                    match_count += 1\n",
    "                    #print (f\"Match found for {key}\")\n",
    "                    continue\n",
    "                else:\n",
    "                    #print (f\"Match not found for {key}\")\n",
    "                    continue\n",
    "        print (f\"Match count for {file_name} is {match_count} out of {total_ranges} ranges({round(match_count/total_ranges*100, 2)}%)\")\n",
    "        dict_distances[hvcf_file] = round(match_count/total_ranges*100, 2)\n",
    "\n",
    "    return dict_distances"
   ]
  },
  {
   "cell_type": "code",
   "execution_count": null,
   "id": "76356a70",
   "metadata": {
    "lines_to_next_cell": 2
   },
   "outputs": [],
   "source": [
    "\n",
    "\n",
    "def plot_imputation(hvcf_files, hvcf_file):\n",
    "\n",
    "    dict_distances = check_imputation(hvcf_files, hvcf_file)\n",
    "\n",
    "    plt.bar(range(len(dict_distances)), list(dict_distances.values()), align='center')\n",
    "    plt.xticks(range(len(dict_distances)), list(dict_distances.keys()), rotation=90)\n",
    "    plt.show()"
   ]
  },
  {
   "cell_type": "code",
   "execution_count": null,
   "id": "b75b3313",
   "metadata": {},
   "outputs": [],
   "source": [
    "\n",
    "\n",
    "import os\n",
    "import glob\n",
    "import gzip\n",
    "import subprocess\n",
    "import matplotlib.pyplot as plt\n",
    "import argparse\n",
    "import sys\n",
    "\n",
    "def main():\n",
    "\n",
    "    if AmIaNotebook() == False:\n",
    "        parser = argparse.ArgumentParser(description=main.__doc__)\n",
    "        parser.add_argument(\"--hvcf-folder\", \"-folder\", help=\"Folder with the pangenome genomes\", required=True)\n",
    "        parser.add_argument(\"--hvcf-file\", \"-file\", help=\"File with the ranges to check\", required=True)\n",
    "        args = parser.parse_args()\n",
    "\n",
    "        hvcf_folder = args.hvcf_folder\n",
    "        hvcf_file = args.hvcf_file\n",
    "\n",
    "    else:\n",
    "        hvcf_folder = \"/scratch/PHG/output/vcf_files/\"\n",
    "        hvcf_file = \"/scratch/PHG/output/ensambled_genomes/1740D-268-01_S1_L001_R1_001_GDB136.h.vcf\"\n",
    "\n",
    "\n",
    "    \n",
    "\n",
    "\n",
    "    hvcf_files = list_pangenome_hvcfs(hvcf_folder)\n",
    "\n",
    "    #check_imputation(hvcf_files, hvcf_file)\n",
    "\n",
    "    plot_imputation(hvcf_files, hvcf_file)\n",
    "\n",
    "\n",
    "\n"
   ]
  },
  {
   "cell_type": "code",
   "execution_count": null,
   "id": "ac67732b",
   "metadata": {
    "lines_to_next_cell": 2
   },
   "outputs": [],
   "source": [
    "\n",
    "\n",
    "if __name__ == \"__main__\":\n",
    "        try:\n",
    "            main()    \n",
    "        except KeyboardInterrupt:\n",
    "            print(\"Script interrupted by user. Exiting...\")\n",
    "            sys.exit(0)\n",
    "            raise KeyboardInterrupt"
   ]
  },
  {
   "cell_type": "code",
   "execution_count": null,
   "id": "3551a70d",
   "metadata": {
    "lines_to_next_cell": 2
   },
   "outputs": [],
   "source": [
    "\n",
    "\n",
    "#TODO\n",
    "\n",
    "# Same but based in the bp, for that:\n",
    "\n",
    "#go for last line of haplotypes and get the last bp\n",
    "#get the number of bp of each range matched, and append it to the num_of_bp_matched\n",
    "#divide the num_of_bp_matched by the total bp of the last line of the haplotypes"
   ]
  }
 ],
 "metadata": {
  "jupytext": {
   "cell_metadata_filter": "-all",
   "encoding": "# coding: utf-8",
   "executable": "/usr/bin/env python",
   "main_language": "python",
   "notebook_metadata_filter": "-all"
  }
 },
 "nbformat": 4,
 "nbformat_minor": 5
}
